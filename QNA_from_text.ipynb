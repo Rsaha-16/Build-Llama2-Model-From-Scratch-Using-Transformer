{
 "cells": [
  {
   "cell_type": "markdown",
   "metadata": {},
   "source": [
    "# Imports\n"
   ]
  },
  {
   "cell_type": "code",
   "execution_count": 1,
   "metadata": {},
   "outputs": [],
   "source": [
    "%load_ext autoreload\n",
    "%autoreload 2"
   ]
  },
  {
   "cell_type": "code",
   "execution_count": 2,
   "metadata": {},
   "outputs": [
    {
     "name": "stdout",
     "output_type": "stream",
     "text": [
      "pytorch version: 2.1.2+cu121\n"
     ]
    },
    {
     "name": "stderr",
     "output_type": "stream",
     "text": [
      "sentencepiece_trainer.cc(77) LOG(INFO) Starts training with : \n",
      "trainer_spec {\n",
      "  input: ./data/tiny-shakespeare.txt\n",
      "  input_format: \n",
      "  model_prefix: data/tiny-shakespeare\n",
      "  model_type: UNIGRAM\n",
      "  vocab_size: 100\n",
      "  self_test_sample_size: 0\n",
      "  character_coverage: 0.9995\n",
      "  input_sentence_size: 1000000\n",
      "  shuffle_input_sentence: 1\n",
      "  seed_sentencepiece_size: 1000000\n",
      "  shrinking_factor: 0.75\n",
      "  max_sentence_length: 4192\n",
      "  num_threads: 16\n",
      "  num_sub_iterations: 2\n",
      "  max_sentencepiece_length: 16\n",
      "  split_by_unicode_script: 1\n",
      "  split_by_number: 1\n",
      "  split_by_whitespace: 1\n",
      "  split_digits: 0\n",
      "  pretokenization_delimiter: \n",
      "  treat_whitespace_as_suffix: 0\n",
      "  allow_whitespace_only_pieces: 0\n",
      "  required_chars: \n",
      "  byte_fallback: 0\n",
      "  vocabulary_output_piece_score: 1\n",
      "  train_extremely_large_corpus: 0\n",
      "  hard_vocab_limit: 1\n",
      "  use_all_vocab: 0\n",
      "  unk_id: 1\n",
      "  bos_id: 2\n",
      "  eos_id: 3\n",
      "  pad_id: 0\n",
      "  unk_piece: <unk>\n",
      "  bos_piece: <s>\n",
      "  eos_piece: </s>\n",
      "  pad_piece: <pad>\n",
      "  unk_surface:  ⁇ \n",
      "  enable_differential_privacy: 0\n",
      "  differential_privacy_noise_level: 0\n",
      "  differential_privacy_clipping_threshold: 0\n",
      "}\n",
      "normalizer_spec {\n",
      "  name: nmt_nfkc\n",
      "  add_dummy_prefix: 1\n",
      "  remove_extra_whitespaces: 1\n",
      "  escape_whitespaces: 1\n",
      "  normalization_rule_tsv: \n",
      "}\n",
      "denormalizer_spec {}\n",
      "trainer_interface.cc(351) LOG(INFO) SentenceIterator is not specified. Using MultiFileSentenceIterator.\n",
      "trainer_interface.cc(183) LOG(INFO) Loading corpus: ./data/tiny-shakespeare.txt\n",
      "trainer_interface.cc(407) LOG(INFO) Loaded all 32777 sentences\n",
      "trainer_interface.cc(423) LOG(INFO) Adding meta_piece: <pad>\n",
      "trainer_interface.cc(423) LOG(INFO) Adding meta_piece: <unk>\n",
      "trainer_interface.cc(423) LOG(INFO) Adding meta_piece: <s>\n",
      "trainer_interface.cc(423) LOG(INFO) Adding meta_piece: </s>\n",
      "trainer_interface.cc(428) LOG(INFO) Normalizing sentences...\n",
      "trainer_interface.cc(537) LOG(INFO) all chars count=1108153\n",
      "trainer_interface.cc(548) LOG(INFO) Done: 99.9692% characters are covered.\n",
      "trainer_interface.cc(558) LOG(INFO) Alphabet size=59\n",
      "trainer_interface.cc(559) LOG(INFO) Final character coverage=0.999692\n",
      "trainer_interface.cc(591) LOG(INFO) Done! preprocessed 32777 sentences.\n",
      "unigram_model_trainer.cc(222) LOG(INFO) Making suffix array...\n",
      "unigram_model_trainer.cc(226) LOG(INFO) Extracting frequent sub strings... node_num=563788\n",
      "unigram_model_trainer.cc(274) LOG(INFO) Initialized 33662 seed sentencepieces\n",
      "trainer_interface.cc(597) LOG(INFO) Tokenizing input sentences with whitespace: 32777\n",
      "trainer_interface.cc(608) LOG(INFO) Done! 25670\n",
      "unigram_model_trainer.cc(564) LOG(INFO) Using 25670 sentences for EM training\n",
      "unigram_model_trainer.cc(580) LOG(INFO) EM sub_iter=0 size=12635 obj=11.7318 num_tokens=52726 num_tokens/piece=4.17301\n",
      "unigram_model_trainer.cc(580) LOG(INFO) EM sub_iter=1 size=10764 obj=9.49501 num_tokens=53076 num_tokens/piece=4.93088\n",
      "unigram_model_trainer.cc(580) LOG(INFO) EM sub_iter=0 size=8070 obj=9.50511 num_tokens=56370 num_tokens/piece=6.98513\n",
      "unigram_model_trainer.cc(580) LOG(INFO) EM sub_iter=1 size=8067 obj=9.46589 num_tokens=56420 num_tokens/piece=6.99393\n",
      "unigram_model_trainer.cc(580) LOG(INFO) EM sub_iter=0 size=6049 obj=9.65571 num_tokens=61693 num_tokens/piece=10.1989\n",
      "unigram_model_trainer.cc(580) LOG(INFO) EM sub_iter=1 size=6048 obj=9.61202 num_tokens=61692 num_tokens/piece=10.2004\n",
      "unigram_model_trainer.cc(580) LOG(INFO) EM sub_iter=0 size=4536 obj=9.88694 num_tokens=68011 num_tokens/piece=14.9936\n",
      "unigram_model_trainer.cc(580) LOG(INFO) EM sub_iter=1 size=4536 obj=9.83503 num_tokens=68008 num_tokens/piece=14.9929\n",
      "unigram_model_trainer.cc(580) LOG(INFO) EM sub_iter=0 size=3402 obj=10.161 num_tokens=74969 num_tokens/piece=22.0367\n",
      "unigram_model_trainer.cc(580) LOG(INFO) EM sub_iter=1 size=3402 obj=10.1105 num_tokens=74968 num_tokens/piece=22.0364\n",
      "unigram_model_trainer.cc(580) LOG(INFO) EM sub_iter=0 size=2551 obj=10.4682 num_tokens=81963 num_tokens/piece=32.1298\n",
      "unigram_model_trainer.cc(580) LOG(INFO) EM sub_iter=1 size=2551 obj=10.4149 num_tokens=81968 num_tokens/piece=32.1317\n",
      "unigram_model_trainer.cc(580) LOG(INFO) EM sub_iter=0 size=1913 obj=10.8662 num_tokens=89401 num_tokens/piece=46.7334\n",
      "unigram_model_trainer.cc(580) LOG(INFO) EM sub_iter=1 size=1913 obj=10.8009 num_tokens=89405 num_tokens/piece=46.7355\n",
      "unigram_model_trainer.cc(580) LOG(INFO) EM sub_iter=0 size=1434 obj=11.3158 num_tokens=96763 num_tokens/piece=67.4777\n",
      "unigram_model_trainer.cc(580) LOG(INFO) EM sub_iter=1 size=1434 obj=11.2369 num_tokens=96776 num_tokens/piece=67.4868\n",
      "unigram_model_trainer.cc(580) LOG(INFO) EM sub_iter=0 size=1075 obj=11.8579 num_tokens=104320 num_tokens/piece=97.0419\n",
      "unigram_model_trainer.cc(580) LOG(INFO) EM sub_iter=1 size=1075 obj=11.7649 num_tokens=104344 num_tokens/piece=97.0642\n",
      "unigram_model_trainer.cc(580) LOG(INFO) EM sub_iter=0 size=806 obj=12.4104 num_tokens=111321 num_tokens/piece=138.115\n",
      "unigram_model_trainer.cc(580) LOG(INFO) EM sub_iter=1 size=806 obj=12.3053 num_tokens=111328 num_tokens/piece=138.124\n",
      "unigram_model_trainer.cc(580) LOG(INFO) EM sub_iter=0 size=604 obj=13.0154 num_tokens=117645 num_tokens/piece=194.776\n",
      "unigram_model_trainer.cc(580) LOG(INFO) EM sub_iter=1 size=604 obj=12.8916 num_tokens=117644 num_tokens/piece=194.775\n",
      "unigram_model_trainer.cc(580) LOG(INFO) EM sub_iter=0 size=453 obj=13.7703 num_tokens=124724 num_tokens/piece=275.329\n",
      "unigram_model_trainer.cc(580) LOG(INFO) EM sub_iter=1 size=453 obj=13.6242 num_tokens=124724 num_tokens/piece=275.329\n",
      "unigram_model_trainer.cc(580) LOG(INFO) EM sub_iter=0 size=339 obj=14.4398 num_tokens=131440 num_tokens/piece=387.729\n",
      "unigram_model_trainer.cc(580) LOG(INFO) EM sub_iter=1 size=339 obj=14.2714 num_tokens=131438 num_tokens/piece=387.723\n",
      "unigram_model_trainer.cc(580) LOG(INFO) EM sub_iter=0 size=254 obj=15.1632 num_tokens=141296 num_tokens/piece=556.283\n",
      "unigram_model_trainer.cc(580) LOG(INFO) EM sub_iter=1 size=254 obj=14.9892 num_tokens=141325 num_tokens/piece=556.398\n",
      "unigram_model_trainer.cc(580) LOG(INFO) EM sub_iter=0 size=190 obj=15.7913 num_tokens=148461 num_tokens/piece=781.374\n",
      "unigram_model_trainer.cc(580) LOG(INFO) EM sub_iter=1 size=190 obj=15.6147 num_tokens=148460 num_tokens/piece=781.368\n",
      "unigram_model_trainer.cc(580) LOG(INFO) EM sub_iter=0 size=142 obj=16.8352 num_tokens=161431 num_tokens/piece=1136.84\n",
      "unigram_model_trainer.cc(580) LOG(INFO) EM sub_iter=1 size=142 obj=16.4976 num_tokens=161486 num_tokens/piece=1137.23\n",
      "unigram_model_trainer.cc(580) LOG(INFO) EM sub_iter=0 size=110 obj=17.3295 num_tokens=171554 num_tokens/piece=1559.58\n",
      "unigram_model_trainer.cc(580) LOG(INFO) EM sub_iter=1 size=110 obj=17.0871 num_tokens=171578 num_tokens/piece=1559.8\n",
      "trainer_interface.cc(686) LOG(INFO) Saving model: data/tiny-shakespeare.model\n",
      "trainer_interface.cc(698) LOG(INFO) Saving vocabs: data/tiny-shakespeare.vocab\n",
      "/home/ayantanu/.local/lib/python3.10/site-packages/torch/cuda/__init__.py:138: UserWarning: CUDA initialization: The NVIDIA driver on your system is too old (found version 11040). Please update your GPU driver by downloading and installing a new version from the URL: http://www.nvidia.com/Download/index.aspx Alternatively, go to: https://pytorch.org to install a PyTorch version that has been compiled with your version of the CUDA driver. (Triggered internally at ../c10/cuda/CUDAFunctions.cpp:108.)\n",
      "  return torch._C._cuda_getDeviceCount() > 0\n"
     ]
    }
   ],
   "source": [
    "import sys\n",
    "\n",
    "sys.path.append(\"..\")\n",
    "\n",
    "from pathlib import Path\n",
    "import matplotlib.pyplot as plt\n",
    "import torch\n",
    "\n",
    "# This line imports the LLM class from the llm module. LLM likely stands for \"Language Model\" or something similar.There was an llm.py file \n",
    "# Here from transformer from scratch called\n",
    "from model.llm import LLM\n",
    "\n",
    "\n",
    "# This code defines a Tokenizer class and a train_tokenizer function for tokenizing text data using SentencePiece, a library for unsupervised text tokenization. \n",
    "from model.tokenizer import Tokenizer, train_tokenizer\n",
    "\n",
    "\n",
    "\n",
    "# This code defines a NextTokenPredictionDataset class for creating a dataset suitable for training a language model for next token prediction.\n",
    "from helpers.dataset import NextTokenPredictionDataset\n",
    "from helpers.trainer import train\n",
    "\n",
    "from helpers.config import LLMConfig, TrainingConfig, get_device\n",
    "\n",
    "\n",
    "print(f\"pytorch version: {torch.__version__}\")"
   ]
  },
  {
   "cell_type": "markdown",
   "metadata": {},
   "source": [
    "# Set config\n"
   ]
  },
  {
   "cell_type": "code",
   "execution_count": 3,
   "metadata": {},
   "outputs": [],
   "source": [
    "# llm_config and train_config are configuration objects used for configuring the language model (LLM) and the training process, respectively. \n",
    "\n",
    "llm_config = LLMConfig(\n",
    "    # The size of the vocabulary used by the language model.\n",
    "    vocab_size=2_000,\n",
    "    # The size of the context window, i.e., the number of tokens considered as context for predicting the next token.\n",
    "    context_size=64,\n",
    "    # The dimensionality of the token embeddings.\n",
    "    dim_emb=256,\n",
    "    # The number of layers in the transformer architecture of the language model.\n",
    "    num_layers=4,\n",
    "    # The number of attention heads in the multi-head self-attention mechanism.\n",
    "    num_heads=8,\n",
    "    # The dropout probability applied to the token embeddings.\n",
    "    emb_dropout=0.0,\n",
    "    # The dimensionality of the hidden layer in the feedforward network within the transformer layers.\n",
    "    ffd_dim_hidden=4 * 256,\n",
    "    # A boolean indicating whether bias is used in the feedforward network within the transformer layers.\n",
    "    ffd_bias=False,\n",
    ")\n",
    "\n",
    "train_config = TrainingConfig(\n",
    "    retrain_tokenizer=False,\n",
    "    device=get_device(),\n",
    "    # The batch size used during training.\n",
    "    batch_size=64,\n",
    "    # The learning rate used for optimization during training.\n",
    "    learning_rate=3e-4,\n",
    "    weight_decay=1e-5,\n",
    "    # The maximum number of training steps (or iterations) for which the training will run.\n",
    "    max_steps=4000,\n",
    "    # For example, if set to 1, logging will happen after each training step.\n",
    "    log_frequency=1,\n",
    ")"
   ]
  },
  {
   "cell_type": "markdown",
   "metadata": {},
   "source": [
    "# Prepare tokenizer and dataset\n"
   ]
  },
  {
   "cell_type": "code",
   "execution_count": 4,
   "metadata": {},
   "outputs": [],
   "source": [
    "# Read the .txt file and build a docker.model \n",
    "\n",
    "# Next we pass the output_file in Tokenizer function and we get an object file\n",
    " \n",
    "\n",
    "\n",
    "input_file = \"./data/tiny-shakespeare.txt\"\n",
    "output_file = Path(input_file).with_suffix(\".model\")\n",
    "# print(output_file)\n",
    "\n",
    "if not output_file.exists() or train_config.retrain_tokenizer:\n",
    "    print(\"Hello\")\n",
    "    train_tokenizer(input_file, llm_config.vocab_size)\n",
    "\n",
    "tokenizer = Tokenizer(str(output_file))\n",
    "# We pass this in NextTokenPredictionDataset function"
   ]
  },
  {
   "cell_type": "code",
   "execution_count": 5,
   "metadata": {},
   "outputs": [
    {
     "name": "stdout",
     "output_type": "stream",
     "text": [
      "100\n"
     ]
    }
   ],
   "source": [
    "print(tokenizer.vocab_size)"
   ]
  },
  {
   "cell_type": "code",
   "execution_count": 6,
   "metadata": {},
   "outputs": [
    {
     "name": "stdout",
     "output_type": "stream",
     "text": [
      "['▁Th', 'in', 'k', '▁you', '▁', 's', 'o', ',', '▁', 's', 'i', 'r', '?']\n",
      "Think you so, sir?\n"
     ]
    }
   ],
   "source": [
    "# string=\"The quick brown fox jumps over the lazy dog.\"\n",
    "# print(string)\n",
    "# print(len(string))\n",
    "\n",
    "sentence = (\n",
    "    \"Think you so, sir?\"\n",
    ")\n",
    "\n",
    "ipt=tokenizer.sp.EncodeAsPieces(sentence)\n",
    "print(ipt)\n",
    "print(tokenizer.sp.DecodePieces(ipt))\n",
    "\n",
    "# len(tokenizer.sp.EncodeAsIds(sentence))"
   ]
  },
  {
   "cell_type": "code",
   "execution_count": 7,
   "metadata": {},
   "outputs": [
    {
     "name": "stdout",
     "output_type": "stream",
     "text": [
      "tensor([[64,  4, 18, 14,  8, 12, 45,  4, 14,  8,  6,  5, 13, 67, 10,  6,  4, 15,\n",
      "          8, 99, 14,  9, 59,  4, 69, 35, 25, 10, 99,  6, 13, 22, 16, 45,  4,  9,\n",
      "         99, 33,  4,  6, 20,  8, 99, 14,  9,  4, 23, 11, 29,  9,  4, 65, 81,  4,\n",
      "         38, 11, 63, 31, 12,  4,  7, 23,  7, 29]], dtype=torch.int32) tensor([[ 4, 18, 14,  8, 12, 45,  4, 14,  8,  6,  5, 13, 67, 10,  6,  4, 15,  8,\n",
      "         99, 14,  9, 59,  4, 69, 35, 25, 10, 99,  6, 13, 22, 16, 45,  4,  9, 99,\n",
      "         33,  4,  6, 20,  8, 99, 14,  9,  4, 23, 11, 29,  9,  4, 65, 81,  4, 38,\n",
      "         11, 63, 31, 12,  4,  7, 23,  7, 29, 33]])\n",
      "torch.Size([1, 64]) torch.Size([1, 64])\n"
     ]
    }
   ],
   "source": [
    "# This helper class allow to generate batches of inputs and targets where targets last element is the next token to predict\n",
    "# NextTokenPredictionDataset is a helper class for generating batches of inputs and targets for training a language model.\n",
    "\n",
    "ds_train = NextTokenPredictionDataset(input_file, llm_config.context_size, tokenizer)\n",
    "\n",
    "\n",
    "X, y = ds_train.get_batch(batch_size=1)\n",
    "print(X,y)\n",
    "# The last element of y seems to be the token to predict next.\n",
    "print(X.shape, y.shape)"
   ]
  },
  {
   "cell_type": "markdown",
   "metadata": {},
   "source": [
    "# Define model\n"
   ]
  },
  {
   "cell_type": "code",
   "execution_count": 8,
   "metadata": {},
   "outputs": [
    {
     "name": "stdout",
     "output_type": "stream",
     "text": [
      "total params: 11,596,132\n",
      "model size: 44.314MB\n"
     ]
    }
   ],
   "source": [
    "model = LLM(\n",
    "    vocab_size=tokenizer.vocab_size,\n",
    "    context_size=llm_config.context_size,\n",
    "    dim_emb=llm_config.dim_emb,\n",
    "    num_layers=llm_config.num_layers,\n",
    "    attn_num_heads=llm_config.num_heads,\n",
    "    emb_dropout=llm_config.emb_dropout,\n",
    "    ffd_hidden_dim=llm_config.ffd_dim_hidden,\n",
    "    ffd_bias=llm_config.ffd_bias,\n",
    ")\n",
    "\n",
    "params_size = sum(p.nelement() * p.element_size() for p in model.parameters())\n",
    "buffer_size = sum(p.nelement() * p.element_size() for p in model.buffers())\n",
    "size = (params_size + buffer_size) / 1024**2\n",
    "\n",
    "print(f\"total params: {sum(p.numel() for p in model.parameters()):,d}\")\n",
    "print(f\"model size: {size:.3f}MB\")\n",
    "\n",
    "# print(model)"
   ]
  },
  {
   "cell_type": "markdown",
   "metadata": {},
   "source": [
    "# Train model\n"
   ]
  },
  {
   "cell_type": "code",
   "execution_count": 9,
   "metadata": {},
   "outputs": [
    {
     "name": "stdout",
     "output_type": "stream",
     "text": [
      "Training on cpu.\n",
      "Step 4000/4000 - LR:0.0003 - train_loss: 1.722\r"
     ]
    }
   ],
   "source": [
    "loss_history = train(\n",
    "    model,\n",
    "    ds_train,\n",
    "    train_config.device,\n",
    "    batch_size=train_config.batch_size,\n",
    "    lr=train_config.learning_rate,\n",
    "    max_steps=train_config.max_steps,\n",
    "    weight_decay=train_config.weight_decay,\n",
    "    log_every=train_config.log_frequency,\n",
    ")"
   ]
  },
  {
   "cell_type": "code",
   "execution_count": 10,
   "metadata": {},
   "outputs": [
    {
     "data": {
      "image/png": "[encoded data removed]",
      "text/plain": [
       "<Figure size 1200x400 with 1 Axes>"
      ]
     },
     "metadata": {},
     "output_type": "display_data"
    }
   ],
   "source": [
    "fig, ax = plt.subplots(figsize=(12, 4))\n",
    "ax.plot(range(len(loss_history[\"train_loss\"])), loss_history[\"train_loss\"])\n",
    "ax.set_xlabel(\"step\")\n",
    "ax.set_ylabel(\"cross entropy loss\")\n",
    "ax.grid(axis=\"y\")"
   ]
  },
  {
   "cell_type": "markdown",
   "metadata": {},
   "source": [
    "# Play around\n"
   ]
  },
  {
   "cell_type": "code",
   "execution_count": 11,
   "metadata": {},
   "outputs": [
    {
     "data": {
      "text/plain": [
       "'her crowns one must shalt tread within o'"
      ]
     },
     "execution_count": 11,
     "metadata": {},
     "output_type": "execute_result"
    }
   ],
   "source": [
    "# empty prompt to generate random stuff\n",
    "prompt = torch.full((1, llm_config.context_size), tokenizer.pad_id, dtype=torch.int32).to(train_config.device)\n",
    "out = model.generate(prompt, max_seq_len=30)\n",
    "tokenizer.decode(out)"
   ]
  },
  {
   "cell_type": "code",
   "execution_count": 12,
   "metadata": {},
   "outputs": [
    {
     "name": "stdout",
     "output_type": "stream",
     "text": [
      "\n",
      "\n"
     ]
    },
    {
     "data": {
      "text/plain": [
       "'After I have done what I promised? PETRUCHIO: Why, my rog; you will sha'"
      ]
     },
     "execution_count": 12,
     "metadata": {},
     "output_type": "execute_result"
    }
   ],
   "source": [
    "# generate from a prompt\n",
    "prompt = (\n",
    "    tokenizer.encode(\n",
    "        \"After I have done what I promised?\",\n",
    "        beg_of_string=True,\n",
    "        pad_seq=True,\n",
    "        seq_len=llm_config.context_size,\n",
    "    )\n",
    "    .view(1, -1)\n",
    "    .to(train_config.device)\n",
    ")\n",
    "out = model.generate(prompt, max_seq_len=30)\n",
    "print(\"\\n\")\n",
    "tokenizer.decode(out)"
   ]
  },
  {
   "cell_type": "code",
   "execution_count": null,
   "metadata": {},
   "outputs": [],
   "source": []
  }
 ],
 "metadata": {
  "kernelspec": {
   "display_name": "scratch-llm",
   "language": "python",
   "name": "python3"
  },
  "language_info": {
   "codemirror_mode": {
    "name": "ipython",
    "version": 3
   },
   "file_extension": ".py",
   "mimetype": "text/x-python",
   "name": "python",
   "nbconvert_exporter": "python",
   "pygments_lexer": "ipython3",
   "version": "3.10.12"
  },
  "orig_nbformat": 4
 },
 "nbformat": 4,
 "nbformat_minor": 2
}
